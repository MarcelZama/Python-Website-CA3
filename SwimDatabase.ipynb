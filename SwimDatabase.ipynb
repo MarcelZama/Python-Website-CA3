{
 "cells": [
  {
   "cell_type": "code",
   "execution_count": null,
   "metadata": {},
   "outputs": [],
   "source": [
    "\n",
    "swimmers:\n",
    "\n",
    "    unique id\n",
    "    name \n",
    "    age \n",
    "\n",
    "\n",
    "strokes:\n",
    "\n",
    "    unique id \n",
    "    distance \n",
    "    stroke \n",
    "\n",
    "\n",
    "times:\n",
    "\n",
    "    swimmer_id\n",
    "    stroke_id\n",
    "    time \n",
    "    timestamp\n",
    "\n",
    "\n",
    "create database swimdataDB;\n",
    "\n",
    "grant all on swimdataDB.* to 'swimuser'@'localhost' identified by 'swimpasswd';\n",
    "\n",
    "create table swimmers (\n",
    "    id int not null auto_increment primary key,\n",
    "    name varchar(32) not null,\n",
    "    age int not null\n",
    ");\n",
    "\n",
    "create table strokes (\n",
    "    id int not null auto_increment primary key,\n",
    "    distance varchar(16) not null,\n",
    "    stroke varchar(16) not null\n",
    ");\n",
    "\n",
    "create table times (\n",
    "    swimmer_id int not null,\n",
    "    stroke_id int not null,\n",
    "    time varchar(16) not null,\n",
    "    ts timestamp default current_timestamp\n",
    ");\n",
    "\n",
    "----------------------------------------------------------------------\n",
    "\n",
    "MariaDB [swimdataDB]> describe strokes;\n",
    "+----------+-------------+------+-----+---------+----------------+\n",
    "| Field    | Type        | Null | Key | Default | Extra          |\n",
    "+----------+-------------+------+-----+---------+----------------+\n",
    "| id       | int(11)     | NO   | PRI | NULL    | auto_increment |\n",
    "| distance | varchar(16) | NO   |     | NULL    |                |\n",
    "| stroke   | varchar(16) | NO   |     | NULL    |                |\n",
    "+----------+-------------+------+-----+---------+----------------+\n",
    "\n",
    "\n",
    "MariaDB [swimdataDB]> describe swimmers;\n",
    "+-------+-------------+------+-----+---------+----------------+\n",
    "| Field | Type        | Null | Key | Default | Extra          |\n",
    "+-------+-------------+------+-----+---------+----------------+\n",
    "| id    | int(11)     | NO   | PRI | NULL    | auto_increment |\n",
    "| name  | varchar(32) | NO   |     | NULL    |                |\n",
    "| age   | int(11)     | NO   |     | NULL    |                |\n",
    "+-------+-------------+------+-----+---------+----------------+\n",
    "\n",
    "\n",
    "MariaDB [swimdataDB]> describe times;\n",
    "+------------+-------------+------+-----+---------------------+-------+\n",
    "| Field      | Type        | Null | Key | Default             | Extra |\n",
    "+------------+-------------+------+-----+---------------------+-------+\n",
    "| swimmer_id | int(11)     | NO   |     | NULL                |       |\n",
    "| stroke_id  | int(11)     | NO   |     | NULL                |       |\n",
    "| time       | varchar(16) | NO   |     | NULL                |       |\n",
    "| ts         | timestamp   | YES  |     | current_timestamp() |       |\n",
    "+------------+-------------+------+-----+---------------------+-------+\n"
   ]
  },
  {
   "cell_type": "code",
   "execution_count": null,
   "metadata": {},
   "outputs": [],
   "source": [
    "%pip install mycli --upgrade"
   ]
  },
  {
   "cell_type": "code",
   "execution_count": 1,
   "metadata": {},
   "outputs": [],
   "source": [
    "import os\n",
    "\n",
    "FOLDER = \"swimdata/\"\n",
    "\n",
    "files = os.listdir(FOLDER)\n",
    "\n",
    "files.remove(\".DS_Store\")"
   ]
  },
  {
   "cell_type": "code",
   "execution_count": 2,
   "metadata": {},
   "outputs": [
    {
     "data": {
      "text/plain": [
       "54"
      ]
     },
     "execution_count": 2,
     "metadata": {},
     "output_type": "execute_result"
    }
   ],
   "source": [
    "len(files)"
   ]
  },
  {
   "cell_type": "code",
   "execution_count": 3,
   "metadata": {},
   "outputs": [
    {
     "name": "stdout",
     "output_type": "stream",
     "text": [
      "['Hannah-13-100m-Free.txt', 'Darius-13-100m-Back.txt', 'Owen-15-100m-Free.txt', 'Mike-15-100m-Free.txt', 'Hannah-13-100m-Back.txt', 'Mike-15-100m-Back.txt', 'Mike-15-100m-Fly.txt', 'Abi-10-50m-Back.txt', 'Ruth-13-200m-Free.txt', 'Tasmin-15-100m-Back.txt', 'Erika-15-100m-Free.txt', 'Ruth-13-200m-Back.txt', 'Maria-9-50m-Free.txt', 'Elba-14-100m-Free.txt', 'Tasmin-15-100m-Free.txt', 'Abi-10-100m-Back.txt', 'Abi-10-50m-Breast.txt', 'Mike-15-200m-IM.txt', 'Sarah-15-100m-Back.txt', 'Ruth-13-100m-Back.txt', 'Chris-17-100m-Back.txt', 'Darius-13-100m-Breast.txt', 'Ruth-13-100m-Free.txt', 'Aurora-13-50m-Free.txt', 'Alison-14-100m-Breast.txt', 'Ruth-13-400m-Free.txt', 'Emma-13-100m-Free.txt', 'Calvin-9-50m-Fly.txt', 'Darius-13-100m-Fly.txt', 'Mike-15-200m-Free.txt', 'Emma-13-100m-Breast.txt', 'Tasmin-15-100m-Breast.txt', 'Blake-15-100m-Free.txt', 'Chris-17-100m-Breast.txt', 'Blake-15-100m-Back.txt', 'Bill-18-200m-Back.txt', 'Darius-13-200m-IM.txt', 'Dave-17-100m-Free.txt', 'Alison-14-100m-Free.txt', 'Lizzie-14-100m-Free.txt', 'Katie-9-50m-Fly.txt', 'Katie-9-50m-Breast.txt', 'Katie-9-50m-Back.txt', 'Lizzie-14-100m-Back.txt', 'Tasmin-15-200m-Breast.txt', 'Katie-9-50m-Free.txt', 'Dave-17-200m-Back.txt', 'Erika-15-200m-Breast.txt', 'Calvin-9-50m-Back.txt', 'Calvin-9-50m-Free.txt', 'Bill-18-100m-Back.txt', 'Blake-15-100m-Fly.txt', 'Erika-15-100m-Breast.txt', 'Katie-9-100m-Back.txt']\n"
     ]
    }
   ],
   "source": [
    "print(files)"
   ]
  },
  {
   "cell_type": "code",
   "execution_count": 4,
   "metadata": {},
   "outputs": [],
   "source": [
    "import DBcm"
   ]
  },
  {
   "cell_type": "code",
   "execution_count": 5,
   "metadata": {},
   "outputs": [],
   "source": [
    "config = {\n",
    "    \"user\": \"swimuser\",\n",
    "    \"password\": \"swimpasswd\",\n",
    "    \"host\": \"localhost\",\n",
    "    \"database\": \"swimdataDB\",\n",
    "}"
   ]
  },
  {
   "cell_type": "code",
   "execution_count": null,
   "metadata": {},
   "outputs": [],
   "source": [
    "with DBcm.UseDatabase(config) as db:\n",
    "    name = \"Abi\"\n",
    "    age = 9\n",
    "    SQL = \"select * from swimmers where name = %s and age = %s;\"  # %s is a placeholder.\n",
    "    db.execute(SQL, (name, age))   \n",
    "    results = db.fetchall()"
   ]
  },
  {
   "cell_type": "code",
   "execution_count": null,
   "metadata": {},
   "outputs": [],
   "source": [
    "results"
   ]
  },
  {
   "cell_type": "code",
   "execution_count": 6,
   "metadata": {},
   "outputs": [],
   "source": [
    "def insert_if_not_already_there(connection, table, field1, field2, value1, value2):\n",
    "    SQL = f\"select * from {table} where {field1} = %s and {field2} = %s;\"\n",
    "    connection.execute(SQL, (value1, value2))\n",
    "    results = connection.fetchall()\n",
    "    if results:\n",
    "        pass\n",
    "    else:\n",
    "        SQL = f\"insert into {table} ({field1}, {field2}) values (%s, %s)\"\n",
    "        db.execute(SQL, (value1, value2))   "
   ]
  },
  {
   "cell_type": "code",
   "execution_count": 7,
   "metadata": {},
   "outputs": [],
   "source": [
    "with DBcm.UseDatabase(config) as db:\n",
    "    for fn in files:\n",
    "        name, age, distance, stroke = fn.removesuffix(\".txt\").split(\"-\")\n",
    "        insert_if_not_already_there(db, \"swimmers\", \"name\", \"age\", name, age)\n",
    "        insert_if_not_already_there(db, \"strokes\", \"distance\", \"stroke\", distance, stroke)"
   ]
  },
  {
   "cell_type": "code",
   "execution_count": null,
   "metadata": {},
   "outputs": [],
   "source": [
    "with DBcm.UseDatabase(config) as db:\n",
    "    SQL = \"select id from swimmers where name = 'Darius' and age = 13\"\n",
    "    db.execute(SQL)\n",
    "    results = db.fetchone()[0]\n",
    "results"
   ]
  },
  {
   "cell_type": "code",
   "execution_count": 8,
   "metadata": {},
   "outputs": [],
   "source": [
    "def get_id(connection, table, field1, field2, value1, value2):\n",
    "    SQL = f\"select id from {table} where {field1} = %s and {field2} = %s\"\n",
    "    connection.execute(SQL, (value1, value2))\n",
    "    return connection.fetchone()[0] "
   ]
  },
  {
   "cell_type": "code",
   "execution_count": 9,
   "metadata": {},
   "outputs": [],
   "source": [
    "import swimclub\n",
    "\n",
    "with DBcm.UseDatabase(config) as db:\n",
    "    for fn in files:\n",
    "        *_, times, _ = swimclub.get_swim_data(fn)\n",
    "        name, age, distance, stroke = fn.removesuffix(\".txt\").split(\"-\")\n",
    "        swimmer_id = get_id(db, \"swimmers\", \"name\", \"age\", name, age)\n",
    "        stroke_id = get_id(db, \"strokes\", \"distance\", \"stroke\", distance, stroke)\n",
    "        for t in times:\n",
    "            SQL = \"insert into times (swimmer_id, stroke_id, time) values (%s, %s, %s)\"\n",
    "            db.execute(SQL, (swimmer_id, stroke_id, t))"
   ]
  },
  {
   "cell_type": "markdown",
   "metadata": {},
   "source": [
    "##### At this point, the data is in the database tables, so we can work with it (as opposed to going back to the filesystem)."
   ]
  },
  {
   "cell_type": "code",
   "execution_count": null,
   "metadata": {},
   "outputs": [],
   "source": [
    "import DBcm\n",
    "\n",
    "config = {\n",
    "    \"user\": \"swimuser\",\n",
    "    \"password\": \"swimpasswd\",\n",
    "    \"host\": \"localhost\",\n",
    "    \"database\": \"swimdataDB\",\n",
    "} \n",
    "\n",
    "swimmer_name = \"Katie\"\n",
    "swimmer_age = 9\n",
    "\n",
    "event_distance = \"100m\"\n",
    "event_stroke = \"Back\"\n",
    "\n",
    "SQL = \"\"\"\n",
    "        select swimmers.name, swimmers.age, times.time, strokes.distance, strokes.stroke, times.ts\n",
    "        from swimmers, times, strokes\n",
    "        where (swimmers.name = %s and swimmers.age = %s) and\n",
    "        (strokes.distance = %s and strokes.stroke = %s) and\n",
    "        swimmers.id = times.swimmer_id and\n",
    "        strokes.id = times.stroke_id\n",
    "\"\"\" \n",
    "\n",
    "with DBcm.UseDatabase(config) as db:\n",
    "    db.execute(SQL, (swimmer_name, swimmer_age, event_distance, event_stroke, ))\n",
    "    results = db.fetchall()"
   ]
  },
  {
   "cell_type": "code",
   "execution_count": null,
   "metadata": {},
   "outputs": [],
   "source": [
    "for row in results:\n",
    "    print(row)"
   ]
  },
  {
   "cell_type": "code",
   "execution_count": null,
   "metadata": {},
   "outputs": [],
   "source": [
    "import DBcm\n",
    "\n",
    "config = {\n",
    "    \"user\": \"swimuser\",\n",
    "    \"password\": \"swimpasswd\",\n",
    "    \"host\": \"localhost\",\n",
    "    \"database\": \"swimdataDB\",\n",
    "} \n",
    "\n",
    "def get_swimmers_data(name, age, distance, stroke):\n",
    "    SQL = \"\"\"\n",
    "        select swimmers.name, swimmers.age, times.time, strokes.distance, strokes.stroke, times.ts\n",
    "        from swimmers, times, strokes\n",
    "        where (swimmers.name = %s and swimmers.age = %s) and\n",
    "        (strokes.distance = %s and strokes.stroke = %s) and\n",
    "        swimmers.id = times.swimmer_id and\n",
    "        strokes.id = times.stroke_id\n",
    "    \"\"\"\n",
    "    with DBcm.UseDatabase(config) as db:\n",
    "        db.execute(SQL, (name, age, distance, stroke, ))\n",
    "        results = db.fetchall()\n",
    "    return results"
   ]
  },
  {
   "cell_type": "code",
   "execution_count": null,
   "metadata": {},
   "outputs": [],
   "source": [
    "for row in get_swimmers_data(\"Darius\", 13, \"200m\", \"IM\"):\n",
    "    print(row)"
   ]
  },
  {
   "cell_type": "code",
   "execution_count": null,
   "metadata": {},
   "outputs": [],
   "source": [
    "for row in get_swimmers_data(\"Chris\", 17, \"100m\", \"Back\"):\n",
    "    print(row)"
   ]
  },
  {
   "cell_type": "code",
   "execution_count": null,
   "metadata": {},
   "outputs": [],
   "source": [
    "# List a named swimmer's events (as stored in the database). \n",
    "\n",
    "import DBcm\n",
    "\n",
    "config = {\n",
    "    \"user\": \"swimuser\",\n",
    "    \"password\": \"swimpasswd\",\n",
    "    \"host\": \"localhost\",\n",
    "    \"database\": \"swimdataDB\",\n",
    "} \n",
    "\n",
    "swimmer = \"Hannah\"\n",
    "\n",
    "SQL = \"\"\" \n",
    "    select distinct strokes.distance, strokes.stroke\n",
    "    from swimmers, strokes, times\n",
    "    where times.swimmer_id = swimmers.id and\n",
    "    times.stroke_id = strokes.id and\n",
    "    swimmers.name = %s;\n",
    "\"\"\"\n",
    "\n",
    "with DBcm.UseDatabase(config) as db:\n",
    "    db.execute(SQL, (swimmer, ))\n",
    "    results = db.fetchall()\n",
    "results\n",
    "## list(set(results))"
   ]
  },
  {
   "cell_type": "code",
   "execution_count": null,
   "metadata": {},
   "outputs": [],
   "source": [
    "events = [  t[0]+\"-\"+t[1] for t in results ]\n",
    "events"
   ]
  },
  {
   "cell_type": "code",
   "execution_count": null,
   "metadata": {},
   "outputs": [],
   "source": [
    "SQL = \"select name from swimmers\"\n",
    "with DBcm.UseDatabase(config) as db:\n",
    "    db.execute(SQL)\n",
    "    results = db.fetchall()"
   ]
  },
  {
   "cell_type": "code",
   "execution_count": null,
   "metadata": {},
   "outputs": [],
   "source": [
    "results"
   ]
  },
  {
   "cell_type": "code",
   "execution_count": null,
   "metadata": {},
   "outputs": [],
   "source": [
    "names = [ t[0] for t in results ]  # 't' is the current tuple."
   ]
  },
  {
   "cell_type": "code",
   "execution_count": null,
   "metadata": {},
   "outputs": [],
   "source": [
    "print(sorted(names))"
   ]
  },
  {
   "cell_type": "code",
   "execution_count": null,
   "metadata": {},
   "outputs": [],
   "source": []
  },
  {
   "cell_type": "code",
   "execution_count": null,
   "metadata": {},
   "outputs": [],
   "source": [
    "import data_utils"
   ]
  },
  {
   "cell_type": "code",
   "execution_count": null,
   "metadata": {},
   "outputs": [],
   "source": [
    "print(dir(data_utils))"
   ]
  },
  {
   "cell_type": "code",
   "execution_count": null,
   "metadata": {},
   "outputs": [],
   "source": [
    "data_utils.get_chart_data(\"Darius\", 13, \"100m-Back\")"
   ]
  },
  {
   "cell_type": "code",
   "execution_count": null,
   "metadata": {},
   "outputs": [],
   "source": [
    "list(zip(data[1], data[2]))"
   ]
  },
  {
   "cell_type": "code",
   "execution_count": null,
   "metadata": {},
   "outputs": [],
   "source": [
    "data = data_utils.get_chart_data(\"Darius\", 13, \"100m-Back\")"
   ]
  },
  {
   "cell_type": "code",
   "execution_count": null,
   "metadata": {},
   "outputs": [],
   "source": [
    "data[0]"
   ]
  },
  {
   "cell_type": "code",
   "execution_count": null,
   "metadata": {},
   "outputs": [],
   "source": [
    "data[1]"
   ]
  },
  {
   "cell_type": "code",
   "execution_count": null,
   "metadata": {},
   "outputs": [],
   "source": [
    "data[-1]"
   ]
  },
  {
   "cell_type": "code",
   "execution_count": null,
   "metadata": {},
   "outputs": [],
   "source": []
  },
  {
   "cell_type": "code",
   "execution_count": null,
   "metadata": {},
   "outputs": [],
   "source": []
  },
  {
   "cell_type": "code",
   "execution_count": 10,
   "metadata": {},
   "outputs": [],
   "source": [
    "import data_utils"
   ]
  },
  {
   "cell_type": "code",
   "execution_count": 11,
   "metadata": {},
   "outputs": [
    {
     "data": {
      "text/plain": [
       "[(datetime.datetime(2022, 12, 1, 12, 33, 29),),\n",
       " (datetime.datetime(2022, 12, 8, 14, 0, 11),)]"
      ]
     },
     "execution_count": 11,
     "metadata": {},
     "output_type": "execute_result"
    }
   ],
   "source": [
    "data_utils.get_list_of_sessions()"
   ]
  },
  {
   "cell_type": "code",
   "execution_count": 12,
   "metadata": {},
   "outputs": [],
   "source": [
    "sessions = data_utils.get_list_of_sessions()"
   ]
  },
  {
   "cell_type": "code",
   "execution_count": 13,
   "metadata": {},
   "outputs": [
    {
     "data": {
      "text/plain": [
       "[(datetime.datetime(2022, 12, 1, 12, 33, 29),),\n",
       " (datetime.datetime(2022, 12, 8, 14, 0, 11),)]"
      ]
     },
     "execution_count": 13,
     "metadata": {},
     "output_type": "execute_result"
    }
   ],
   "source": [
    "sessions"
   ]
  },
  {
   "cell_type": "code",
   "execution_count": 15,
   "metadata": {},
   "outputs": [
    {
     "data": {
      "text/plain": [
       "datetime.datetime(2022, 12, 1, 12, 33, 29)"
      ]
     },
     "execution_count": 15,
     "metadata": {},
     "output_type": "execute_result"
    }
   ],
   "source": [
    "sessions[0][0]"
   ]
  },
  {
   "cell_type": "code",
   "execution_count": 16,
   "metadata": {},
   "outputs": [
    {
     "name": "stdout",
     "output_type": "stream",
     "text": [
      "['__add__', '__class__', '__delattr__', '__dir__', '__doc__', '__eq__', '__format__', '__ge__', '__getattribute__', '__getstate__', '__gt__', '__hash__', '__init__', '__init_subclass__', '__le__', '__lt__', '__ne__', '__new__', '__radd__', '__reduce__', '__reduce_ex__', '__repr__', '__rsub__', '__setattr__', '__sizeof__', '__str__', '__sub__', '__subclasshook__', 'astimezone', 'combine', 'ctime', 'date', 'day', 'dst', 'fold', 'fromisocalendar', 'fromisoformat', 'fromordinal', 'fromtimestamp', 'hour', 'isocalendar', 'isoformat', 'isoweekday', 'max', 'microsecond', 'min', 'minute', 'month', 'now', 'replace', 'resolution', 'second', 'strftime', 'strptime', 'time', 'timestamp', 'timetuple', 'timetz', 'today', 'toordinal', 'tzinfo', 'tzname', 'utcfromtimestamp', 'utcnow', 'utcoffset', 'utctimetuple', 'weekday', 'year']\n"
     ]
    }
   ],
   "source": [
    "print(dir(sessions[0][0]))"
   ]
  },
  {
   "cell_type": "code",
   "execution_count": 17,
   "metadata": {},
   "outputs": [
    {
     "data": {
      "text/plain": [
       "'Thu Dec  1 12:33:29 2022'"
      ]
     },
     "execution_count": 17,
     "metadata": {},
     "output_type": "execute_result"
    }
   ],
   "source": [
    "sessions[0][0].ctime()"
   ]
  },
  {
   "cell_type": "code",
   "execution_count": 18,
   "metadata": {},
   "outputs": [
    {
     "data": {
      "text/plain": [
       "'2022-12-01T12:33:29'"
      ]
     },
     "execution_count": 18,
     "metadata": {},
     "output_type": "execute_result"
    }
   ],
   "source": [
    "sessions[0][0].isoformat()"
   ]
  },
  {
   "cell_type": "code",
   "execution_count": 19,
   "metadata": {},
   "outputs": [
    {
     "data": {
      "text/plain": [
       "'2022-12-01'"
      ]
     },
     "execution_count": 19,
     "metadata": {},
     "output_type": "execute_result"
    }
   ],
   "source": [
    "sessions[0][0].isoformat().split(\"T\")[0]"
   ]
  },
  {
   "cell_type": "code",
   "execution_count": 20,
   "metadata": {},
   "outputs": [
    {
     "data": {
      "text/plain": [
       "'12:33:29'"
      ]
     },
     "execution_count": 20,
     "metadata": {},
     "output_type": "execute_result"
    }
   ],
   "source": [
    "sessions[0][0].isoformat().split(\"T\")[1]"
   ]
  },
  {
   "cell_type": "code",
   "execution_count": 21,
   "metadata": {},
   "outputs": [
    {
     "name": "stdout",
     "output_type": "stream",
     "text": [
      "2022-12-01\n",
      "2022-12-08\n"
     ]
    }
   ],
   "source": [
    "for row in sessions:\n",
    "    print(row[0].isoformat().split(\"T\")[0])"
   ]
  },
  {
   "cell_type": "code",
   "execution_count": 22,
   "metadata": {},
   "outputs": [],
   "source": [
    "SQL = \"\"\"select * from times where date_format(ts, \"%Y-%m-%d\") = \"2022-12-08\";\"\"\""
   ]
  },
  {
   "cell_type": "code",
   "execution_count": 24,
   "metadata": {},
   "outputs": [],
   "source": [
    "sessions = [row[0].isoformat().split(\"T\")[0] for row in data_utils.get_list_of_sessions()]"
   ]
  },
  {
   "cell_type": "code",
   "execution_count": 25,
   "metadata": {},
   "outputs": [
    {
     "data": {
      "text/plain": [
       "['2022-12-01', '2022-12-08']"
      ]
     },
     "execution_count": 25,
     "metadata": {},
     "output_type": "execute_result"
    }
   ],
   "source": [
    "sessions"
   ]
  },
  {
   "cell_type": "code",
   "execution_count": 27,
   "metadata": {},
   "outputs": [
    {
     "data": {
      "text/plain": [
       "['2022-12-08', '2022-12-01']"
      ]
     },
     "execution_count": 27,
     "metadata": {},
     "output_type": "execute_result"
    }
   ],
   "source": [
    "sorted(sessions, reverse=True)"
   ]
  },
  {
   "cell_type": "code",
   "execution_count": 31,
   "metadata": {},
   "outputs": [
    {
     "data": {
      "text/plain": [
       "['2026-01-01', '2022-12-08', '2022-12-01']"
      ]
     },
     "execution_count": 31,
     "metadata": {},
     "output_type": "execute_result"
    }
   ],
   "source": [
    "sorted(['2022-12-08', '2022-12-01', '2026-01-01'], reverse=True)"
   ]
  },
  {
   "cell_type": "code",
   "execution_count": 32,
   "metadata": {},
   "outputs": [],
   "source": [
    "SQL = \"\"\"\n",
    "    select distinct swimmers.name   \n",
    "    from times, swimmers \n",
    "    where date_format(times.ts, \"%Y-%m-%d\") = %s and     \n",
    "    times.swimmer_id = swimmers.id \n",
    "    order by name\n",
    "\"\"\""
   ]
  },
  {
   "cell_type": "code",
   "execution_count": 37,
   "metadata": {},
   "outputs": [
    {
     "data": {
      "text/plain": [
       "['Abi',\n",
       " 'Ali',\n",
       " 'Alison',\n",
       " 'Aurora',\n",
       " 'Bill',\n",
       " 'Blake',\n",
       " 'Calvin',\n",
       " 'Carl',\n",
       " 'Chris',\n",
       " 'Darius',\n",
       " 'Dave',\n",
       " 'Elba',\n",
       " 'Emma',\n",
       " 'Erika',\n",
       " 'Hannah',\n",
       " 'Katie',\n",
       " 'Lizzie',\n",
       " 'Maria',\n",
       " 'Mike',\n",
       " 'Owen',\n",
       " 'Ruth',\n",
       " 'Tasmin']"
      ]
     },
     "execution_count": 37,
     "metadata": {},
     "output_type": "execute_result"
    }
   ],
   "source": [
    "with DBcm.UseDatabase(config) as db:\n",
    "    db.execute(SQL, (sessions[0], ))\n",
    "    results = db.fetchall()\n",
    "[ row[0] for row in results ]"
   ]
  },
  {
   "cell_type": "code",
   "execution_count": null,
   "metadata": {},
   "outputs": [],
   "source": []
  }
 ],
 "metadata": {
  "kernelspec": {
   "display_name": "Python 3 (ipykernel)",
   "language": "python",
   "name": "python3"
  },
  "language_info": {
   "codemirror_mode": {
    "name": "ipython",
    "version": 3
   },
   "file_extension": ".py",
   "mimetype": "text/x-python",
   "name": "python",
   "nbconvert_exporter": "python",
   "pygments_lexer": "ipython3",
   "version": "3.11.0 (main, Oct 26 2022, 19:06:18) [Clang 14.0.0 (clang-1400.0.29.202)]"
  },
  "vscode": {
   "interpreter": {
    "hash": "5c7b89af1651d0b8571dde13640ecdccf7d5a6204171d6ab33e7c296e100e08a"
   }
  }
 },
 "nbformat": 4,
 "nbformat_minor": 2
}
