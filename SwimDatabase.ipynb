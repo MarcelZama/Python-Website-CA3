{
 "cells": [
  {
   "cell_type": "code",
   "execution_count": null,
   "metadata": {},
   "outputs": [],
   "source": [
    "\n",
    "swimmers:\n",
    "\n",
    "    unique id\n",
    "    name \n",
    "    age \n",
    "\n",
    "\n",
    "strokes:\n",
    "\n",
    "    unique id \n",
    "    distance \n",
    "    stroke \n",
    "\n",
    "\n",
    "times:\n",
    "\n",
    "    swimmer_id\n",
    "    stroke_id\n",
    "    time \n",
    "    timestamp\n",
    "\n",
    "\n",
    "create database swimdataDB;\n",
    "\n",
    "grant all on swimdataDB.* to 'swimuser'@'localhost' identified by 'swimpasswd';\n",
    "\n",
    "create table swimmers (\n",
    "    id int not null auto_increment primary key,\n",
    "    name varchar(32) not null,\n",
    "    age int not null\n",
    ");\n",
    "\n",
    "create table strokes (\n",
    "    id int not null auto_increment primary key,\n",
    "    distance varchar(16) not null,\n",
    "    stroke varchar(16) not null\n",
    ");\n",
    "\n",
    "create table times (\n",
    "    swimmer_id int not null,\n",
    "    stroke_id int not null,\n",
    "    time varchar(16) not null,\n",
    "    ts timestamp default current_timestamp\n",
    ");\n",
    "\n",
    "----------------------------------------------------------------------\n",
    "\n",
    "MariaDB [swimdataDB]> describe strokes;\n",
    "+----------+-------------+------+-----+---------+----------------+\n",
    "| Field    | Type        | Null | Key | Default | Extra          |\n",
    "+----------+-------------+------+-----+---------+----------------+\n",
    "| id       | int(11)     | NO   | PRI | NULL    | auto_increment |\n",
    "| distance | varchar(16) | NO   |     | NULL    |                |\n",
    "| stroke   | varchar(16) | NO   |     | NULL    |                |\n",
    "+----------+-------------+------+-----+---------+----------------+\n",
    "\n",
    "\n",
    "MariaDB [swimdataDB]> describe swimmers;\n",
    "+-------+-------------+------+-----+---------+----------------+\n",
    "| Field | Type        | Null | Key | Default | Extra          |\n",
    "+-------+-------------+------+-----+---------+----------------+\n",
    "| id    | int(11)     | NO   | PRI | NULL    | auto_increment |\n",
    "| name  | varchar(32) | NO   |     | NULL    |                |\n",
    "| age   | int(11)     | NO   |     | NULL    |                |\n",
    "+-------+-------------+------+-----+---------+----------------+\n",
    "\n",
    "\n",
    "MariaDB [swimdataDB]> describe times;\n",
    "+------------+-------------+------+-----+---------------------+-------+\n",
    "| Field      | Type        | Null | Key | Default             | Extra |\n",
    "+------------+-------------+------+-----+---------------------+-------+\n",
    "| swimmer_id | int(11)     | NO   |     | NULL                |       |\n",
    "| stroke_id  | int(11)     | NO   |     | NULL                |       |\n",
    "| time       | varchar(16) | NO   |     | NULL                |       |\n",
    "| ts         | timestamp   | YES  |     | current_timestamp() |       |\n",
    "+------------+-------------+------+-----+---------------------+-------+\n"
   ]
  },
  {
   "cell_type": "code",
   "execution_count": null,
   "metadata": {},
   "outputs": [],
   "source": [
    "%pip install mycli --upgrade"
   ]
  },
  {
   "cell_type": "code",
   "execution_count": null,
   "metadata": {},
   "outputs": [],
   "source": [
    "import os\n",
    "\n",
    "FOLDER = \"swimdata/\"\n",
    "\n",
    "files = os.listdir(FOLDER)\n",
    "\n",
    "files.remove(\".DS_Store\")"
   ]
  },
  {
   "cell_type": "code",
   "execution_count": null,
   "metadata": {},
   "outputs": [],
   "source": [
    "len(files)"
   ]
  },
  {
   "cell_type": "code",
   "execution_count": null,
   "metadata": {},
   "outputs": [],
   "source": [
    "print(files)"
   ]
  },
  {
   "cell_type": "code",
   "execution_count": null,
   "metadata": {},
   "outputs": [],
   "source": [
    "import DBcm"
   ]
  },
  {
   "cell_type": "code",
   "execution_count": null,
   "metadata": {},
   "outputs": [],
   "source": [
    "config = {\n",
    "    \"user\": \"swimuser\",\n",
    "    \"password\": \"swimpasswd\",\n",
    "    \"host\": \"localhost\",\n",
    "    \"database\": \"swimdataDB\",\n",
    "}"
   ]
  },
  {
   "cell_type": "code",
   "execution_count": null,
   "metadata": {},
   "outputs": [],
   "source": [
    "with DBcm.UseDatabase(config) as db:\n",
    "    name = \"Abi\"\n",
    "    age = 9\n",
    "    SQL = \"select * from swimmers where name = %s and age = %s;\"  # %s is a placeholder.\n",
    "    db.execute(SQL, (name, age))   \n",
    "    results = db.fetchall()"
   ]
  },
  {
   "cell_type": "code",
   "execution_count": null,
   "metadata": {},
   "outputs": [],
   "source": [
    "results"
   ]
  },
  {
   "cell_type": "code",
   "execution_count": null,
   "metadata": {},
   "outputs": [],
   "source": [
    "def insert_if_not_already_there(connection, table, field1, field2, value1, value2):\n",
    "    SQL = f\"select * from {table} where {field1} = %s and {field2} = %s;\"\n",
    "    connection.execute(SQL, (value1, value2))\n",
    "    results = connection.fetchall()\n",
    "    if results:\n",
    "        pass\n",
    "    else:\n",
    "        SQL = f\"insert into {table} ({field1}, {field2}) values (%s, %s)\"\n",
    "        db.execute(SQL, (value1, value2))   "
   ]
  },
  {
   "cell_type": "code",
   "execution_count": null,
   "metadata": {},
   "outputs": [],
   "source": [
    "with DBcm.UseDatabase(config) as db:\n",
    "    for fn in files:\n",
    "        name, age, distance, stroke = fn.removesuffix(\".txt\").split(\"-\")\n",
    "        insert_if_not_already_there(db, \"swimmers\", \"name\", \"age\", name, age)\n",
    "        insert_if_not_already_there(db, \"strokes\", \"distance\", \"stroke\", distance, stroke)"
   ]
  },
  {
   "cell_type": "code",
   "execution_count": null,
   "metadata": {},
   "outputs": [],
   "source": [
    "with DBcm.UseDatabase(config) as db:\n",
    "    SQL = \"select id from swimmers where name = 'Darius' and age = 13\"\n",
    "    db.execute(SQL)\n",
    "    results = db.fetchone()[0]\n",
    "results"
   ]
  },
  {
   "cell_type": "code",
   "execution_count": null,
   "metadata": {},
   "outputs": [],
   "source": [
    "def get_id(connection, table, field1, field2, value1, value2):\n",
    "    SQL = f\"select id from {table} where {field1} = %s and {field2} = %s\"\n",
    "    connection.execute(SQL, (value1, value2))\n",
    "    return connection.fetchone()[0] "
   ]
  },
  {
   "cell_type": "code",
   "execution_count": null,
   "metadata": {},
   "outputs": [],
   "source": [
    "import swimclub\n",
    "\n",
    "with DBcm.UseDatabase(config) as db:\n",
    "    for fn in files:\n",
    "        *_, times, _ = swimclub.get_swim_data(fn)\n",
    "        name, age, distance, stroke = fn.removesuffix(\".txt\").split(\"-\")\n",
    "        swimmer_id = get_id(db, \"swimmers\", \"name\", \"age\", name, age)\n",
    "        stroke_id = get_id(db, \"strokes\", \"distance\", \"stroke\", distance, stroke)\n",
    "        for t in times:\n",
    "            SQL = \"insert into times (swimmer_id, stroke_id, time) values (%s, %s, %s)\"\n",
    "            db.execute(SQL, (swimmer_id, stroke_id, t))"
   ]
  },
  {
   "cell_type": "markdown",
   "metadata": {},
   "source": [
    "##### At this point, the data is in the database tables, so we can work with it (as opposed to going back to the filesystem)."
   ]
  },
  {
   "cell_type": "code",
   "execution_count": null,
   "metadata": {},
   "outputs": [],
   "source": [
    "import DBcm\n",
    "\n",
    "config = {\n",
    "    \"user\": \"swimuser\",\n",
    "    \"password\": \"swimpasswd\",\n",
    "    \"host\": \"localhost\",\n",
    "    \"database\": \"swimdataDB\",\n",
    "} \n",
    "\n",
    "swimmer_name = \"Katie\"\n",
    "swimmer_age = 9\n",
    "\n",
    "event_distance = \"100m\"\n",
    "event_stroke = \"Back\"\n",
    "\n",
    "SQL = \"\"\"\n",
    "        select swimmers.name, swimmers.age, times.time, strokes.distance, strokes.stroke, times.ts\n",
    "        from swimmers, times, strokes\n",
    "        where (swimmers.name = %s and swimmers.age = %s) and\n",
    "        (strokes.distance = %s and strokes.stroke = %s) and\n",
    "        swimmers.id = times.swimmer_id and\n",
    "        strokes.id = times.stroke_id\n",
    "\"\"\" \n",
    "\n",
    "with DBcm.UseDatabase(config) as db:\n",
    "    db.execute(SQL, (swimmer_name, swimmer_age, event_distance, event_stroke, ))\n",
    "    results = db.fetchall()"
   ]
  },
  {
   "cell_type": "code",
   "execution_count": null,
   "metadata": {},
   "outputs": [],
   "source": [
    "for row in results:\n",
    "    print(row)"
   ]
  },
  {
   "cell_type": "code",
   "execution_count": null,
   "metadata": {},
   "outputs": [],
   "source": [
    "import DBcm\n",
    "\n",
    "config = {\n",
    "    \"user\": \"swimuser\",\n",
    "    \"password\": \"swimpasswd\",\n",
    "    \"host\": \"localhost\",\n",
    "    \"database\": \"swimdataDB\",\n",
    "} \n",
    "\n",
    "def get_swimmers_data(name, age, distance, stroke):\n",
    "    SQL = \"\"\"\n",
    "        select swimmers.name, swimmers.age, times.time, strokes.distance, strokes.stroke, times.ts\n",
    "        from swimmers, times, strokes\n",
    "        where (swimmers.name = %s and swimmers.age = %s) and\n",
    "        (strokes.distance = %s and strokes.stroke = %s) and\n",
    "        swimmers.id = times.swimmer_id and\n",
    "        strokes.id = times.stroke_id\n",
    "    \"\"\"\n",
    "    with DBcm.UseDatabase(config) as db:\n",
    "        db.execute(SQL, (name, age, distance, stroke, ))\n",
    "        results = db.fetchall()\n",
    "    return results"
   ]
  },
  {
   "cell_type": "code",
   "execution_count": null,
   "metadata": {},
   "outputs": [],
   "source": [
    "for row in get_swimmers_data(\"Darius\", 13, \"200m\", \"IM\"):\n",
    "    print(row)"
   ]
  },
  {
   "cell_type": "code",
   "execution_count": null,
   "metadata": {},
   "outputs": [],
   "source": [
    "for row in get_swimmers_data(\"Chris\", 17, \"100m\", \"Back\"):\n",
    "    print(row)"
   ]
  },
  {
   "cell_type": "code",
   "execution_count": null,
   "metadata": {},
   "outputs": [],
   "source": [
    "# List a named swimmer's events (as stored in the database). \n",
    "\n",
    "import DBcm\n",
    "\n",
    "config = {\n",
    "    \"user\": \"swimuser\",\n",
    "    \"password\": \"swimpasswd\",\n",
    "    \"host\": \"localhost\",\n",
    "    \"database\": \"swimdataDB\",\n",
    "} \n",
    "\n",
    "swimmer = \"Lizzie\"\n",
    "\n",
    "SQL = \"\"\" \n",
    "    select distinct strokes.distance, strokes.stroke\n",
    "    from swimmers, strokes, times\n",
    "    where times.swimmer_id = swimmers.id and\n",
    "    times.stroke_id = strokes.id and\n",
    "    swimmers.name = %s;\n",
    "\"\"\"\n",
    "\n",
    "with DBcm.UseDatabase(config) as db:\n",
    "    db.execute(SQL, (swimmer, ))\n",
    "    results = db.fetchall()\n",
    "results\n",
    "## list(set(results))"
   ]
  },
  {
   "cell_type": "code",
   "execution_count": null,
   "metadata": {},
   "outputs": [],
   "source": []
  }
 ],
 "metadata": {
  "kernelspec": {
   "display_name": "Python 3 (ipykernel)",
   "language": "python",
   "name": "python3"
  },
  "language_info": {
   "codemirror_mode": {
    "name": "ipython",
    "version": 3
   },
   "file_extension": ".py",
   "mimetype": "text/x-python",
   "name": "python",
   "nbconvert_exporter": "python",
   "pygments_lexer": "ipython3",
   "version": "3.11.0"
  },
  "vscode": {
   "interpreter": {
    "hash": "5c7b89af1651d0b8571dde13640ecdccf7d5a6204171d6ab33e7c296e100e08a"
   }
  }
 },
 "nbformat": 4,
 "nbformat_minor": 2
}
